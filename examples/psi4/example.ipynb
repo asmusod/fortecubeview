{
 "cells": [
  {
   "cell_type": "markdown",
   "metadata": {},
   "source": [
    "# psi4cubeview\n",
    "\n",
    "psi4cubeview is a simple cube file viewer. It is designed to work with `psi4` and `forte`. However, it should work with any cube file.\n",
    "\n",
    "The cube file in this directory were generated with the following psi4 input file:\n",
    "\n",
    "```\n",
    "import psi4\n",
    "\n",
    "h2o = psi4.geometry(\"\"\"\n",
    "O\n",
    "H 1 0.96\n",
    "H 1 0.96 2 104.5\n",
    "\"\"\")\n",
    "\n",
    "e, wfn = psi4.energy('scf/sto-3g', return_wfn=True)\n",
    "\n",
    "psi4.set_options({\n",
    "    'CUBEPROP_TASKS': ['ORBITALS','DENSITY'],\n",
    "    'CUBEPROP_ORBITALS': [5,6],\n",
    "    'CUBEPROP_FILEPATH': '.'\n",
    "})\n",
    "\n",
    "psi4.cubeprop(wfn)\n",
    "```\n",
    "\n",
    "---\n",
    "\n",
    "After installing `psi4cubeview`, you can run it from a jupyter notebook by first importing it"
   ]
  },
  {
   "cell_type": "code",
   "execution_count": 1,
   "metadata": {},
   "outputs": [
    {
     "name": "stdout",
     "output_type": "stream",
     "text": [
      "Available color schemes: ['emory', 'national', 'bright', 'electron', 'wow']\n"
     ]
    }
   ],
   "source": [
    "import psi4cubeview\n",
    "\n",
    "# shows the color schemes currently available\n",
    "print(f'Available color schemes: {psi4cubeview.colorschemes}')"
   ]
  },
  {
   "cell_type": "code",
   "execution_count": 2,
   "metadata": {},
   "outputs": [
    {
     "name": "stdout",
     "output_type": "stream",
     "text": [
      "CubeViewer: listing cube files from the directory .\n",
      "Reading 6 cube files\n"
     ]
    },
    {
     "data": {
      "application/vnd.jupyter.widget-view+json": {
       "model_id": "c55600ccae5c4d79abccb54062857104",
       "version_major": 2,
       "version_minor": 0
      },
      "text/plain": [
       "VBox(children=(HTML(value=''), Renderer(camera=OrthographicCamera(bottom=-3.0, children=(DirectionalLight(colo…"
      ]
     },
     "metadata": {},
     "output_type": "display_data"
    },
    {
     "data": {
      "application/vnd.jupyter.widget-view+json": {
       "model_id": "1aa12ea105804951bd392282545f2ebb",
       "version_major": 2,
       "version_minor": 0
      },
      "text/plain": [
       "HTML(value='\\n        <style>\\n           .jupyter-widgets-output-area .output_scroll {\\n                heigh…"
      ]
     },
     "metadata": {},
     "output_type": "display_data"
    },
    {
     "data": {
      "application/vnd.jupyter.widget-view+json": {
       "model_id": "cb5b511b1eaf49138ab2f7756c7cfc5a",
       "version_major": 2,
       "version_minor": 0
      },
      "text/plain": [
       "interactive(children=(Select(description='Cube files:', options=('Density (alpha)', 'Density (beta)', 'Density…"
      ]
     },
     "metadata": {},
     "output_type": "display_data"
    },
    {
     "data": {
      "text/plain": [
       "<psi4cubeview.cube_viewer.CubeViewer at 0x7fa1b24ec390>"
      ]
     },
     "execution_count": 2,
     "metadata": {},
     "output_type": "execute_result"
    }
   ],
   "source": [
    "psi4cubeview.plot(width=500,height=300,colorscheme='emory',sumlevel=0.75)"
   ]
  },
  {
   "cell_type": "markdown",
   "metadata": {},
   "source": [
    "---\n",
    "\n",
    "Here is a list of options you can pass to customize the look of the orbitals"
   ]
  },
  {
   "cell_type": "code",
   "execution_count": 5,
   "metadata": {},
   "outputs": [
    {
     "name": "stdout",
     "output_type": "stream",
     "text": [
      "Help on function plot in module psi4cubeview.psi4cubeview:\n",
      "\n",
      "plot(path='.', cubes=None, width=400, height=400, colorscheme='emory', levels=None, colors=None, opacity=1.0, sumlevel=0.85, show_text=True, font_size=16, font_family='Helvetica')\n",
      "    A simple widget for viewing cube files. Cube files are authomatically loaded from the current\n",
      "    directory. Alternatively, the user can pass a path or a dictionary containing CubeFile objects\n",
      "    \n",
      "    Parameters\n",
      "    ----------\n",
      "    path : str\n",
      "        The path used to load cube files (default = '.')\n",
      "    cubes : list\n",
      "        List of cube files to be plotted\n",
      "    width : int\n",
      "        the width of the plot in pixels (default = 400)\n",
      "    height : int\n",
      "        the height of the plot in pixels (default = 400)\n",
      "    colorscheme : str\n",
      "        the colors scheme used to represent the orbitals/densities.\n",
      "        Options include emory (default), national, bright, electron, wow\n",
      "    levels : list(float)\n",
      "        a list of levels to plot (default = None).\n",
      "        Overrides the colorscheme option and must be defined together with the option colors\n",
      "    colors: list(hexadecimal colors)\n",
      "        a list of colors for the levels. E.g. ['#f2a900'] (default = None)\n",
      "    opacity: float [0-1]\n",
      "        the opacity of the surfaces (default = 1.0)\n",
      "    sumlevel: float [0-1]\n",
      "        the fraction of the electron density used to determine the countour levels (default = 0.75)\n",
      "    font_size : int\n",
      "        the font size (default = 16)\n",
      "    font_family : str\n",
      "        the font used to label the orbitals (default = Helvetica)\n",
      "    show_text : bool\n",
      "        show the name of the cube file under the plot? (default = True)\n",
      "\n"
     ]
    }
   ],
   "source": [
    "help(psi4cubeview.plot)"
   ]
  },
  {
   "cell_type": "code",
   "execution_count": null,
   "metadata": {},
   "outputs": [],
   "source": []
  }
 ],
 "metadata": {
  "kernelspec": {
   "display_name": "Python 3",
   "language": "python",
   "name": "python3"
  },
  "language_info": {
   "codemirror_mode": {
    "name": "ipython",
    "version": 3
   },
   "file_extension": ".py",
   "mimetype": "text/x-python",
   "name": "python",
   "nbconvert_exporter": "python",
   "pygments_lexer": "ipython3",
   "version": "3.7.6"
  }
 },
 "nbformat": 4,
 "nbformat_minor": 4
}
