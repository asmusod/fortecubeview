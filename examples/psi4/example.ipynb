{
 "cells": [
  {
   "cell_type": "markdown",
   "metadata": {},
   "source": [
    "# fortecubeview\n",
    "\n",
    "fortecubeview is a simple cube file viewer. It is designed to work with `psi4` and `forte`. However, it should work with any cube file.\n",
    "\n",
    "The cube file in this directory were generated with the following psi4 input file:\n",
    "\n",
    "```\n",
    "import psi4\n",
    "\n",
    "h2o = psi4.geometry(\"\"\"\n",
    "O\n",
    "H 1 0.96\n",
    "H 1 0.96 2 104.5\n",
    "\"\"\")\n",
    "\n",
    "e, wfn = psi4.energy('scf/sto-3g', return_wfn=True)\n",
    "\n",
    "psi4.set_options({\n",
    "    'CUBEPROP_TASKS': ['ORBITALS','DENSITY'],\n",
    "    'CUBEPROP_ORBITALS': [5,6],\n",
    "    'CUBEPROP_FILEPATH': '.'\n",
    "})\n",
    "\n",
    "psi4.cubeprop(wfn)\n",
    "```\n",
    "\n",
    "---\n",
    "\n",
    "After installing `fortecubeview`, you can run it from a jupyter notebook by first importing it"
   ]
  },
  {
   "cell_type": "code",
   "execution_count": 3,
   "metadata": {},
   "outputs": [
    {
     "name": "stdout",
     "output_type": "stream",
     "text": [
      "Available color schemes: ['emory', 'national', 'bright', 'electron', 'wow']\n"
     ]
    }
   ],
   "source": [
    "import fortecubeview\n",
    "\n",
    "# shows the color schemes currently available\n",
    "print(f'Available color schemes: {fortecubeview.colorschemes}')"
   ]
  },
  {
   "cell_type": "code",
   "execution_count": 2,
   "metadata": {},
   "outputs": [
    {
     "name": "stdout",
     "output_type": "stream",
     "text": [
      "CubeViewer: listing cube files from the directory .\n",
      "Reading 6 cube files\n"
     ]
    },
    {
     "data": {
      "application/vnd.jupyter.widget-view+json": {
       "model_id": "67d320d5ece3454aa2b4174530c14a4a",
       "version_major": 2,
       "version_minor": 0
      },
      "text/plain": [
       "VBox(children=(HTML(value=''), Renderer(camera=OrthographicCamera(bottom=-3.0, children=(DirectionalLight(colo…"
      ]
     },
     "metadata": {},
     "output_type": "display_data"
    },
    {
     "data": {
      "application/vnd.jupyter.widget-view+json": {
       "model_id": "2457f4b8945b468cbdbe8edcb5f30048",
       "version_major": 2,
       "version_minor": 0
      },
      "text/plain": [
       "HTML(value='\\n        <style>\\n           .jupyter-widgets-output-area .output_scroll {\\n                heigh…"
      ]
     },
     "metadata": {},
     "output_type": "display_data"
    },
    {
     "data": {
      "application/vnd.jupyter.widget-view+json": {
       "model_id": "aa8b86dea02049b7ae90dbcbb8865eb9",
       "version_major": 2,
       "version_minor": 0
      },
      "text/plain": [
       "interactive(children=(Select(description='Cube files:', options=('Density (alpha)', 'Density (beta)', 'Density…"
      ]
     },
     "metadata": {},
     "output_type": "display_data"
    },
    {
     "data": {
      "text/plain": [
       "<fortecubeview.cube_viewer.CubeViewer at 0x7ff8ff515410>"
      ]
     },
     "execution_count": 2,
     "metadata": {},
     "output_type": "execute_result"
    }
   ],
   "source": [
    "fortecubeview.plot(width=500,height=300,colorscheme='emory',sumlevel=0.75)"
   ]
  },
  {
   "cell_type": "markdown",
   "metadata": {},
   "source": [
    "---\n",
    "Here is a list of options you can pass to customize the look of the orbitals"
   ]
  },
  {
   "cell_type": "code",
   "execution_count": null,
   "metadata": {},
   "outputs": [],
   "source": [
    "help(fortecubeview.plot)"
   ]
  },
  {
   "cell_type": "markdown",
   "metadata": {},
   "source": [
    "## Visualizing molecules\n",
    "\n",
    "You can display xyz geometries using the `geom()` command. This can take an xyz string"
   ]
  },
  {
   "cell_type": "code",
   "execution_count": 6,
   "metadata": {},
   "outputs": [
    {
     "data": {
      "application/vnd.jupyter.widget-view+json": {
       "model_id": "a1d82d4e62ed42588951a61518ba59f8",
       "version_major": 2,
       "version_minor": 0
      },
      "text/plain": [
       "Renderer(camera=OrthographicCamera(bottom=-5.0, children=(DirectionalLight(color='white', intensity=0.5, posit…"
      ]
     },
     "metadata": {},
     "output_type": "display_data"
    },
    {
     "data": {
      "text/plain": [
       "<fortecubeview.mol_viewer.MolViewer at 0x7ffcd1da8d50>"
      ]
     },
     "execution_count": 6,
     "metadata": {},
     "output_type": "execute_result"
    }
   ],
   "source": [
    "xyz = \"\"\"\n",
    "O                     0.000000000000     0.000000000000    -0.065775570547\n",
    "H                     0.000000000000    -0.759061990794     0.521953018286\n",
    "H                     0.000000000000     0.759061990794     0.521953018286\n",
    "\"\"\"\n",
    "\n",
    "fortecubeview.geom(xyz = xyz)"
   ]
  },
  {
   "cell_type": "markdown",
   "metadata": {},
   "source": [
    "Alternatively, you can directly pass a psi4 Molecule object"
   ]
  },
  {
   "cell_type": "code",
   "execution_count": 2,
   "metadata": {},
   "outputs": [],
   "source": [
    "import psi4\n",
    "\n",
    "h2o = psi4.geometry(\"\"\"\n",
    "O\n",
    "H 1 0.96\n",
    "H 1 0.96 2 104.5\n",
    "\"\"\")"
   ]
  },
  {
   "cell_type": "code",
   "execution_count": 4,
   "metadata": {},
   "outputs": [
    {
     "data": {
      "application/vnd.jupyter.widget-view+json": {
       "model_id": "6f76a8ebd6ef4788ac5602cba99cbaf2",
       "version_major": 2,
       "version_minor": 0
      },
      "text/plain": [
       "Renderer(camera=OrthographicCamera(bottom=-5.0, children=(DirectionalLight(color='white', intensity=0.5, posit…"
      ]
     },
     "metadata": {},
     "output_type": "display_data"
    },
    {
     "data": {
      "text/plain": [
       "<fortecubeview.mol_viewer.MolViewer at 0x7ffcd1d32e90>"
      ]
     },
     "execution_count": 4,
     "metadata": {},
     "output_type": "execute_result"
    }
   ],
   "source": [
    "fortecubeview.geom(molecule = h2o)"
   ]
  },
  {
   "cell_type": "code",
   "execution_count": 7,
   "metadata": {},
   "outputs": [
    {
     "data": {
      "application/vnd.jupyter.widget-view+json": {
       "model_id": "839210a7c48d468cabba6e8737e7e6b5",
       "version_major": 2,
       "version_minor": 0
      },
      "text/plain": [
       "VBox(children=(HTML(value=''), Renderer(camera=OrthographicCamera(bottom=-5.0, children=(DirectionalLight(colo…"
      ]
     },
     "metadata": {},
     "output_type": "display_data"
    },
    {
     "data": {
      "application/vnd.jupyter.widget-view+json": {
       "model_id": "e541d361174d4ba8bdd5da650ec3b781",
       "version_major": 2,
       "version_minor": 0
      },
      "text/plain": [
       "HTML(value='\\n        <style>\\n           .jupyter-widgets-output-area .output_scroll {\\n                heigh…"
      ]
     },
     "metadata": {},
     "output_type": "display_data"
    },
    {
     "data": {
      "application/vnd.jupyter.widget-view+json": {
       "model_id": "7fcfcbcfa01e4592aabc8f5120a37282",
       "version_major": 2,
       "version_minor": 0
      },
      "text/plain": [
       "interactive(children=(Select(description='Select:', options=('1: Imaginary mode (i908.7 cm^-1)', '2: Normal mo…"
      ]
     },
     "metadata": {},
     "output_type": "display_data"
    },
    {
     "data": {
      "text/plain": [
       "<fortecubeview.vib_viewer.VibViewer at 0x7ffcd1dade50>"
      ]
     },
     "execution_count": 7,
     "metadata": {},
     "output_type": "execute_result"
    }
   ],
   "source": [
    "fortecubeview.vib('output.nh3.molden_normal_modes')"
   ]
  },
  {
   "cell_type": "code",
   "execution_count": null,
   "metadata": {},
   "outputs": [],
   "source": []
  }
 ],
 "metadata": {
  "kernelspec": {
   "display_name": "Python 3",
   "language": "python",
   "name": "python3"
  },
  "language_info": {
   "codemirror_mode": {
    "name": "ipython",
    "version": 3
   },
   "file_extension": ".py",
   "mimetype": "text/x-python",
   "name": "python",
   "nbconvert_exporter": "python",
   "pygments_lexer": "ipython3",
   "version": "3.7.6"
  }
 },
 "nbformat": 4,
 "nbformat_minor": 4
}
